{
 "cells": [
  {
   "cell_type": "markdown",
   "id": "2482bddd",
   "metadata": {},
   "source": [
    "# Historical Fidelity Simulator Examples\n",
    "    \n",
    "This notebook provides a comprehensive guide to using the Historical Fidelity Simulator,\n",
    "organized by topic and complexity. Each section includes theoretical background,\n",
    "implementation details, and links to specific example notebooks.\n",
    "\n",
    "For more details, see the [research proposal](../docs/research-proposal.md) and\n",
    "[development standards](../docs/development_standards_and_project_goals.md).\n"
   ]
  },
  {
   "cell_type": "markdown",
   "id": "bcea94a8",
   "metadata": {},
   "source": [
    "## Table of Contents\n",
    "\n",
    "- [Basic Usage](#basic-usage)\n",
    "- [Parameter Sweeps](#parameter-sweeps)\n",
    "- [Phase Transitions](#phase-transitions)\n",
    "- [Classical vs Quantum](#classical-vs-quantum)"
   ]
  },
  {
   "cell_type": "markdown",
   "id": "3fb3d333",
   "metadata": {},
   "source": [
    "## Basic Usage"
   ]
  },
  {
   "cell_type": "markdown",
   "id": "e59654f1",
   "metadata": {},
   "source": [
    "### [getting_started](notebooks\\01_basic_usage\\getting_started.ipynb)\n",
    "\n",
    "Getting Started with Historical Fidelity Simulator\n",
    "\n",
    "This script demonstrates the basic usage of the Historical Fidelity Simulator package.\n",
    "We'll cover:\n",
    "1. Setting up a simple Ising system\n",
    "2. Running classical simulations with GPU acceleration\n",
    "3. Running quantum simulations with CuPy support\n",
    "4. Comparing and visualizing results\n",
    "\n",
    "For more advanced usage, see other examples in the examples/ directory.\n"
   ]
  },
  {
   "cell_type": "markdown",
   "id": "cb6a7675",
   "metadata": {},
   "source": [
    "## Parameter Sweeps"
   ]
  },
  {
   "cell_type": "markdown",
   "id": "c5e990a9",
   "metadata": {},
   "source": [
    "### [temperature_coupling_sweep](notebooks\\02_parameter_sweeps\\temperature_coupling_sweep.ipynb)\n",
    "\n",
    "Temperature and Coupling Sweep in Historical Fidelity Simulator\n",
    "\n",
    "This script demonstrates how to perform parameter sweeps to explore:\n",
    "1. Temperature dependence of fidelity and bounds\n",
    "2. Coupling strength effects on system behavior\n",
    "3. GPU-accelerated phase diagram generation\n",
    "4. Classical vs quantum regime comparison\n"
   ]
  },
  {
   "cell_type": "markdown",
   "id": "ac08062d",
   "metadata": {},
   "source": [
    "### [information_planck_sweep](notebooks\\02_parameter_sweeps\\information_planck_sweep.ipynb)\n",
    "\n",
    "Information Planck Constant Sweep in Historical Fidelity Simulator\n",
    "\n",
    "This script explores the role of the information Planck constant (ℏ_h):\n",
    "1. Impact on fidelity and uncertainty bounds\n",
    "2. Scaling behavior in classical and quantum regimes\n",
    "3. GPU-accelerated parameter sweeps for efficient exploration\n",
    "4. Comparison of classical and quantum responses\n"
   ]
  },
  {
   "cell_type": "markdown",
   "id": "a6b41329",
   "metadata": {},
   "source": [
    "### [field_strength_sweep](notebooks\\02_parameter_sweeps\\field_strength_sweep.ipynb)\n",
    "\n",
    "Field Strength Sweep in Historical Fidelity Simulator\n",
    "\n",
    "This script demonstrates how to perform field strength sweeps to explore:\n",
    "1. System response to external fields\n",
    "2. Field-induced phase transitions\n",
    "3. Comparison of classical and quantum behaviors\n",
    "4. GPU-accelerated parameter sweeps for faster exploration\n",
    "\n",
    "For more details on the theory, see docs/research-proposal.md.\n"
   ]
  },
  {
   "cell_type": "markdown",
   "id": "b3b5662e",
   "metadata": {},
   "source": [
    "## Phase Transitions"
   ]
  },
  {
   "cell_type": "markdown",
   "id": "a646e3a1",
   "metadata": {},
   "source": [
    "### [critical_behavior](notebooks\\03_phase_transitions\\critical_behavior.ipynb)\n",
    "\n",
    "Critical Behavior Analysis in Historical Fidelity Simulator\n",
    "\n",
    "This script analyzes phase transitions and critical behavior, focusing on:\n",
    "1. Order parameter scaling near critical points\n",
    "2. Finite-size scaling analysis with GPU acceleration\n",
    "3. Critical exponents estimation\n",
    "4. Correlation function behavior\n",
    "\n",
    "For theoretical background, see docs/research-proposal.md.\n"
   ]
  },
  {
   "cell_type": "markdown",
   "id": "2f7d2381",
   "metadata": {},
   "source": [
    "## Classical vs Quantum"
   ]
  },
  {
   "cell_type": "markdown",
   "id": "5994f5ed",
   "metadata": {},
   "source": [
    "### [fidelity_comparison](notebooks\\04_classical_vs_quantum\\fidelity_comparison.ipynb)\n",
    "\n",
    "Classical vs Quantum Comparison in Historical Fidelity Simulator\n",
    "\n",
    "This script provides detailed comparisons between classical and quantum behaviors:\n",
    "1. Time evolution characteristics\n",
    "2. Response to temperature and coupling\n",
    "3. Uncertainty relations and bounds\n",
    "4. GPU-accelerated analysis for faster exploration\n",
    "\n",
    "For theoretical background, see docs/research-proposal.md.\n"
   ]
  }
 ],
 "metadata": {},
 "nbformat": 4,
 "nbformat_minor": 5
}
